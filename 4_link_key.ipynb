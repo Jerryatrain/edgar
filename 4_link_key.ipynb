{
 "cells": [
  {
   "cell_type": "code",
   "execution_count": 1,
   "metadata": {},
   "outputs": [],
   "source": [
    "import pandas as pd\n",
    "import numpy as np\n",
    "import json\n",
    "from tqdm import tqdm\n",
    "from joblib import Parallel, delayed\n",
    "import pickle\n",
    "import re\n",
    "import multiprocessing\n",
    "\n"
   ]
  },
  {
   "cell_type": "code",
   "execution_count": 16,
   "metadata": {},
   "outputs": [
    {
     "name": "stderr",
     "output_type": "stream",
     "text": [
      "C:\\Users\\TJR\\AppData\\Local\\Temp\\ipykernel_9168\\3507053983.py:3: DtypeWarning: Columns (34) have mixed types. Specify dtype option on import or set low_memory=False.\n",
      "  link_permno = pd.read_csv('cik_permno.csv', encoding='latin1')\n"
     ]
    }
   ],
   "source": [
    "search1_all= pd.read_excel('data/search1_all_alternative.xlsx')\n",
    "link = pd.read_csv('gvkey_cik_link.csv', encoding='latin1')\n",
    "link_permno = pd.read_csv('cik_permno.csv', encoding='latin1')\n",
    "link_permno = link_permno[['gvkey', 'LPERMNO']]"
   ]
  },
  {
   "cell_type": "code",
   "execution_count": 17,
   "metadata": {},
   "outputs": [
    {
     "name": "stdout",
     "output_type": "stream",
     "text": [
      "6996\n"
     ]
    },
    {
     "name": "stderr",
     "output_type": "stream",
     "text": [
      "C:\\Users\\TJR\\AppData\\Local\\Temp\\ipykernel_9168\\2836575751.py:19: DeprecationWarning: DataFrameGroupBy.apply operated on the grouping columns. This behavior is deprecated, and in a future version of pandas the grouping columns will be excluded from the operation. Either pass `include_groups=False` to exclude the groupings or explicitly select the grouping columns after groupby to silence this warning.\n",
      "  df = df.groupby('unique_id').apply(filter_link_date).reset_index(drop=True)\n"
     ]
    }
   ],
   "source": [
    "# use sequence as unique identifier\n",
    "search1_all['unique_id'] = search1_all.index\n",
    "\n",
    "df = pd.merge(search1_all, link, on='cik', how='left')\n",
    "\n",
    "# create a new column, identify whether date is between link_start_date and link_end_date\n",
    "df['date'] = pd.to_datetime(df['date'])\n",
    "df['link_start_date'] = pd.to_datetime(df['link_start_date'], format='%Y-%m-%d', errors='coerce')\n",
    "df['link_end_date'] = pd.to_datetime(df['link_end_date'], format='%Y-%m-%d', errors='coerce')\n",
    "df['link_date'] = (df['date'] >= df['link_start_date']) & (df['date'] <= df['link_end_date'])\n",
    "\n",
    "# for loop each unique id, 1. if there is more than one row, keep the ones with link_date = True 2. if there is only one row, keep it\n",
    "def filter_link_date(df):\n",
    "    if len(df) > 1 and df['link_date'].sum() > 0:\n",
    "        return df[df['link_date']]\n",
    "    else:\n",
    "        return df\n",
    "\n",
    "df = df.groupby('unique_id').apply(filter_link_date).reset_index(drop=True)\n",
    "print(df.unique_id.nunique())\n",
    "\n",
    "df.drop_duplicates(subset=['unique_id'], keep='first', inplace=True)\n",
    "\n",
    "df = pd.merge(df, link_permno, on='gvkey', how='left')\n",
    "\n",
    "df.drop_duplicates(subset=['unique_id'], keep='first', inplace=True)"
   ]
  },
  {
   "cell_type": "code",
   "execution_count": 19,
   "metadata": {},
   "outputs": [],
   "source": [
    "df.to_excel('search1_all.xlsx', index=False)"
   ]
  },
  {
   "cell_type": "code",
   "execution_count": null,
   "metadata": {},
   "outputs": [],
   "source": [
    "for year in range(2000,2021):\n",
    "    df_year = df[df['year'] == year].drop(columns=['unique_id', 'link_start_date', 'link_end_date', 'link_date'])\n",
    "    df_year.to_csv(f'search1_{year}.csv', index=False)"
   ]
  },
  {
   "cell_type": "code",
   "execution_count": 9,
   "metadata": {},
   "outputs": [],
   "source": []
  },
  {
   "cell_type": "markdown",
   "metadata": {},
   "source": []
  },
  {
   "cell_type": "code",
   "execution_count": null,
   "metadata": {},
   "outputs": [],
   "source": []
  },
  {
   "cell_type": "code",
   "execution_count": null,
   "metadata": {},
   "outputs": [],
   "source": []
  }
 ],
 "metadata": {
  "kernelspec": {
   "display_name": "edgar",
   "language": "python",
   "name": "python3"
  },
  "language_info": {
   "codemirror_mode": {
    "name": "ipython",
    "version": 3
   },
   "file_extension": ".py",
   "mimetype": "text/x-python",
   "name": "python",
   "nbconvert_exporter": "python",
   "pygments_lexer": "ipython3",
   "version": "3.12.5"
  }
 },
 "nbformat": 4,
 "nbformat_minor": 2
}
