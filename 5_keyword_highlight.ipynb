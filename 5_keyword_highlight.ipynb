{
 "cells": [
  {
   "cell_type": "code",
   "execution_count": 1,
   "metadata": {},
   "outputs": [],
   "source": [
    "from xlsxwriter.workbook import Workbook\n",
    "import re\n",
    "import pandas as pd \n",
    "from tqdm import tqdm"
   ]
  },
  {
   "cell_type": "code",
   "execution_count": 60,
   "metadata": {},
   "outputs": [],
   "source": [
    "df = pd.read_excel('edgar2000-2024.xlsx')\n",
    "\n",
    "# df['keyword'] is in the shape of a string '['keyword1', 'keyword2', 'keyword3']'\n",
    "# we want extract each keyword and turn it into a list\n",
    "def extract_keywords(row):\n",
    "    keywords = re.findall(r\"'(.*?)'\", row)\n",
    "    return keywords\n",
    "df['keyword'] = df['keyword'].apply(extract_keywords)\n",
    "\n",
    "\n"
   ]
  },
  {
   "cell_type": "code",
   "execution_count": 56,
   "metadata": {},
   "outputs": [
    {
     "name": "stderr",
     "output_type": "stream",
     "text": [
      "/opt/anaconda3/envs/learn/lib/python3.9/site-packages/xlsxwriter/worksheet.py:1344: UserWarning: You must specify more than 2 format/fragments for rich strings. Ignoring input in write_rich_string().\n",
      "  warn(\n"
     ]
    }
   ],
   "source": [
    "# 创建Excel对象\n",
    "workbook = Workbook('highlight.xlsx')\n",
    "# open sheet1\n",
    "worksheet = workbook.add_worksheet('Sheet1')\n",
    "\n",
    "color = workbook.add_format({'color': 'red', 'bold': True})\n",
    "\n",
    "for r in range(len(df)):\n",
    "    doc = df.loc[r, 'doc']\n",
    "    keywords = df.loc[r, 'keyword']\n",
    "\n",
    "    try:\n",
    "        pattern = ''\n",
    "        for key in keywords:\n",
    "            if key != keywords[-1]:\n",
    "                pattern +=  f'({re.escape(key)})|'\n",
    "            else:\n",
    "                pattern +=  f'({re.escape(key)})'\n",
    "\n",
    "        pattern = re.compile(pattern)\n",
    "\n",
    "        format_ls = pattern.split(doc)\n",
    "\n",
    "        # 去除list中的none\n",
    "        format_ls = [i for i in format_ls if i]\n",
    "\n",
    "\n",
    "        for i in range(len(format_ls)-1, -1, -1):\n",
    "            if pattern.fullmatch(format_ls[i]):\n",
    "                format_ls.insert(i, color)  # Prefix the word with the format\n",
    "    except:\n",
    "        format_ls = [color, doc]\n",
    "\n",
    "\n",
    "    # 写入单元格\n",
    "    row, col = r+1, 1\n",
    "    worksheet.write_rich_string(row, col, *format_ls)\n",
    "workbook.close()\n",
    "\n"
   ]
  },
  {
   "cell_type": "code",
   "execution_count": 46,
   "metadata": {},
   "outputs": [],
   "source": [
    "\n",
    "\n"
   ]
  },
  {
   "cell_type": "code",
   "execution_count": 75,
   "metadata": {},
   "outputs": [
    {
     "data": {
      "text/plain": [
       "['Pension Settlement Charge\\n\\u200b\\nDuring the first quarter of fiscal 2024, we settled all future obligations under our frozen U.S. defined benefit retirement plan. The settlement included a combination of lump-sum payments to participants who elected to receive them and the transfer of the remaining benefit obligations to a third-party insurance company under a group annuity contract. As a result of the settlement, in the six-month period ended November 30, 2023, we recognized a non-cash, pre-tax pension settlement charge of $26.7 million ($16.1 million after-tax) related to the accelerated recognition of all unamortized net actuarial losses in Accumulated other comprehensive loss.']"
      ]
     },
     "execution_count": 75,
     "metadata": {},
     "output_type": "execute_result"
    }
   ],
   "source": [
    "\n",
    "r = 1\n",
    "doc = df.loc[r, 'doc']\n",
    "keywords = df.loc[r, 'keyword']\n",
    "\n",
    "pattern = ''\n",
    "for key in keywords:\n",
    "\n",
    "    if key != keywords[-1]:\n",
    "        pattern +=  f\"({re.escape(key)})|\"\n",
    "    else:\n",
    "        pattern +=  f\"({re.escape(key)})\"\n",
    "\n",
    "pattern = re.compile(pattern)\n",
    "\n",
    "format_ls = pattern.split(doc)\n",
    "\n",
    "# 去除list中的none\n",
    "format_ls = [i for i in format_ls if i]\n",
    "\n",
    "\n",
    "for i in range(len(format_ls)-1, -1, -1):\n",
    "    if pattern.fullmatch(format_ls[i]):\n",
    "        format_ls.insert(i, color)  # Prefix the word with the format\n",
    "\n",
    "format_ls\n",
    "\n",
    "\n",
    "\n"
   ]
  },
  {
   "cell_type": "code",
   "execution_count": 67,
   "metadata": {},
   "outputs": [],
   "source": [
    "# 把所有keyword中双斜杠改成单斜杠\n",
    "def change_slash(row):\n",
    "    keywords = re.sub(r'\\\\', r'、', row)\n",
    "    return keywords"
   ]
  },
  {
   "cell_type": "code",
   "execution_count": null,
   "metadata": {},
   "outputs": [],
   "source": []
  }
 ],
 "metadata": {
  "kernelspec": {
   "display_name": "learn",
   "language": "python",
   "name": "python3"
  },
  "language_info": {
   "codemirror_mode": {
    "name": "ipython",
    "version": 3
   },
   "file_extension": ".py",
   "mimetype": "text/x-python",
   "name": "python",
   "nbconvert_exporter": "python",
   "pygments_lexer": "ipython3",
   "version": "3.9.19"
  }
 },
 "nbformat": 4,
 "nbformat_minor": 2
}
