{
 "cells": [
  {
   "cell_type": "code",
   "execution_count": 1,
   "metadata": {},
   "outputs": [
    {
     "data": {
      "text/html": [
       "<pre style=\"white-space:pre;overflow-x:auto;line-height:normal;font-family:Menlo,'DejaVu Sans Mono',consolas,'Courier New',monospace\"><span style=\"color: #7fbfbf; text-decoration-color: #7fbfbf\">[22:37:50] </span><span style=\"color: #000080; text-decoration-color: #000080\">INFO    </span> Identity of the Edgar REST client set to                                            <a href=\"file:///opt/anaconda3/envs/learn/lib/python3.9/site-packages/edgar/core.py\" target=\"_blank\"><span style=\"color: #7f7f7f; text-decoration-color: #7f7f7f\">core.py</span></a><span style=\"color: #7f7f7f; text-decoration-color: #7f7f7f\">:</span><a href=\"file:///opt/anaconda3/envs/learn/lib/python3.9/site-packages/edgar/core.py#158\" target=\"_blank\"><span style=\"color: #7f7f7f; text-decoration-color: #7f7f7f\">158</span></a>\n",
       "<span style=\"color: #7fbfbf; text-decoration-color: #7fbfbf\">           </span>         <span style=\"font-weight: bold\">[</span>80fiokidrkiojiodjiofrjojioqq.com@gmail.com<span style=\"font-weight: bold\">]</span>                                        <span style=\"color: #7f7f7f; text-decoration-color: #7f7f7f\">           </span>\n",
       "</pre>\n"
      ],
      "text/plain": [
       "\u001b[2;36m[22:37:50]\u001b[0m\u001b[2;36m \u001b[0m\u001b[34mINFO    \u001b[0m Identity of the Edgar REST client set to                                            \u001b]8;id=591510;file:///opt/anaconda3/envs/learn/lib/python3.9/site-packages/edgar/core.py\u001b\\\u001b[2mcore.py\u001b[0m\u001b]8;;\u001b\\\u001b[2m:\u001b[0m\u001b]8;id=186193;file:///opt/anaconda3/envs/learn/lib/python3.9/site-packages/edgar/core.py#158\u001b\\\u001b[2m158\u001b[0m\u001b]8;;\u001b\\\n",
       "\u001b[2;36m           \u001b[0m         \u001b[1m[\u001b[0m80fiokidrkiojiodjiofrjojioqq.com@gmail.com\u001b[1m]\u001b[0m                                        \u001b[2m           \u001b[0m\n"
      ]
     },
     "metadata": {},
     "output_type": "display_data"
    }
   ],
   "source": [
    "import pandas as pd\n",
    "import numpy as np\n",
    "import json\n",
    "from edgar import *\n",
    "from tqdm import tqdm\n",
    "from joblib import Parallel, delayed\n",
    "import pickle\n",
    "import multiprocessing\n",
    "set_identity('80fiokidrkiojiodjiofrjojioqq.com@gmail.com')"
   ]
  },
  {
   "cell_type": "code",
   "execution_count": 2,
   "metadata": {},
   "outputs": [],
   "source": [
    "# Define lists of words\n",
    "verbs_1 = ['freeze', 'froze', 'frozen', 'freezing']\n",
    "nouns_1 = ['defined benefit', 'pension plan', 'retirement', 'postretirement', 'postemployment', 'pension', 'benefit']\n",
    "years = [str(year) for year in range(1985, 2026)]\n",
    "words_distance = 15\n",
    "\n",
    "# Create a regex pattern\n",
    "pattern_1 = r'\\b(?:' + '|'.join(re.escape(verb) for verb in verbs_1) + r')\\b(?:\\W+\\w+){0,' + str(words_distance) + r'}\\W+\\b(?:' + '|'.join(re.escape(noun) for noun in nouns_1) + r')\\b(?:\\W+\\w+){0,' + str(words_distance) + r'}\\W+\\b(?:' + '|'.join(re.escape(year) for year in years) + r')\\b' + \\\n",
    "            r'|\\b(?:' + '|'.join(re.escape(year) for year in years) + r')\\b(?:\\W+\\w+){0,' + str(words_distance) + r'}\\W+\\b(?:' + '|'.join(re.escape(noun) for noun in nouns_1) + r')\\b(?:\\W+\\w+){0,' + str(words_distance) + r'}\\W+\\b(?:' + '|'.join(re.escape(verb) for verb in verbs_1) + r')\\b' + \\\n",
    "            r'|\\b(?:' + '|'.join(re.escape(noun) for noun in nouns_1) + r')\\b(?:\\W+\\w+){0,' + str(words_distance) + r'}\\W+\\b(?:' + '|'.join(re.escape(verb) for verb in verbs_1) + r')\\b(?:\\W+\\w+){0,' + str(words_distance) + r'}\\W+\\b(?:' + '|'.join(re.escape(year) for year in years) + r')\\b' + \\\n",
    "            r'|\\b(?:' + '|'.join(re.escape(verb) for verb in verbs_1) + r')\\b(?:\\W+\\w+){0,' + str(words_distance) + r'}\\W+\\b(?:' + '|'.join(re.escape(year) for year in years) + r')\\b(?:\\W+\\w+){0,' + str(words_distance) + r'}\\W+\\b(?:' + '|'.join(re.escape(noun) for noun in nouns_1) + r')\\b' + \\\n",
    "            r'|\\b(?:' + '|'.join(re.escape(noun) for noun in nouns_1) + r')\\b(?:\\W+\\w+){0,' + str(words_distance) + r'}\\W+\\b(?:' + '|'.join(re.escape(year) for year in years) + r')\\b(?:\\W+\\w+){0,' + str(words_distance) + r'}\\W+\\b(?:' + '|'.join(re.escape(verb) for verb in verbs_1) + r')\\b' + \\\n",
    "            r'|\\b(?:' + '|'.join(re.escape(year) for year in years) + r')\\b(?:\\W+\\w+){0,' + str(words_distance) + r'}\\W+\\b(?:' + '|'.join(re.escape(verb) for verb in verbs_1) + r')\\b(?:\\W+\\w+){0,' + str(words_distance) + r'}\\W+\\b(?:' + '|'.join(re.escape(noun) for noun in nouns_1) + r')\\b'\n",
    "\n",
    "\n",
    "def find_freeze(filing):\n",
    "    \n",
    "    try:\n",
    "        result_1 = filing.search(pattern_1, regex=True).json() # search for keywords\n",
    "    except:\n",
    "        result_1 = None   \n",
    "\n",
    "    # try:\n",
    "    #     result_2 = filing.search(pattern_2, regex=True).json() # search for keywords\n",
    "    # except:\n",
    "    #     result_2 = None     \n",
    "\n",
    "    return filing, (result_1, None)\n"
   ]
  },
  {
   "cell_type": "code",
   "execution_count": 3,
   "metadata": {},
   "outputs": [
    {
     "name": "stderr",
     "output_type": "stream",
     "text": [
      " 15%|█▌        | 352/2273 [01:12<07:46,  4.11it/s]/opt/anaconda3/envs/learn/lib/python3.9/site-packages/joblib/externals/loky/process_executor.py:752: UserWarning: A worker stopped while some jobs were given to the executor. This can be caused by a too short worker timeout or by a memory leak.\n",
      "  warnings.warn(\n",
      "100%|██████████| 2273/2273 [13:08<00:00,  2.88it/s]\n"
     ]
    }
   ],
   "source": [
    "for year in range(2020,2021):\n",
    "    # open pcikle file to get the freeze collection\n",
    "    with open(f'data/freeze_collection_{year}.pkl', 'rb') as f:\n",
    "        freeze_collection = pickle.load(f)\n",
    "\n",
    "    # loop through the freeze collection, key is the filing, only if result 1 is not None\n",
    "    filing_list = [filing for filing, value in freeze_collection.items() if (value[0] is not None and value[0]['sections'])]\n",
    "\n",
    "    res = Parallel(n_jobs=-1)(delayed(find_freeze)(filing) for filing in tqdm(filing_list))\n",
    "\n",
    "    # save the result\n",
    "    freeze_collection = dict(res)\n",
    "        \n",
    "    # save the collection\n",
    "    with open(f'data/freeze_collection_{year}_alternative.pkl', 'wb') as f:\n",
    "        pickle.dump(freeze_collection, f)"
   ]
  },
  {
   "cell_type": "code",
   "execution_count": null,
   "metadata": {},
   "outputs": [],
   "source": []
  }
 ],
 "metadata": {
  "kernelspec": {
   "display_name": "learn",
   "language": "python",
   "name": "python3"
  },
  "language_info": {
   "codemirror_mode": {
    "name": "ipython",
    "version": 3
   },
   "file_extension": ".py",
   "mimetype": "text/x-python",
   "name": "python",
   "nbconvert_exporter": "python",
   "pygments_lexer": "ipython3",
   "version": "3.9.19"
  }
 },
 "nbformat": 4,
 "nbformat_minor": 2
}
