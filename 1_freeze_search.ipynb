{
 "cells": [
  {
   "cell_type": "code",
<<<<<<< HEAD
<<<<<<< HEAD
   "execution_count": 16,
=======
   "execution_count": 4,
>>>>>>> 23f54c9 (abort)
=======
   "execution_count": 4,
=======
   "execution_count": 16,
>>>>>>> origin/main
>>>>>>> dc676a0 (Squashed commit of the following:)
   "metadata": {},
   "outputs": [
    {
     "data": {
      "text/html": [
<<<<<<< HEAD
<<<<<<< HEAD
       "<pre style=\"white-space:pre;overflow-x:auto;line-height:normal;font-family:Menlo,'DejaVu Sans Mono',consolas,'Courier New',monospace\"><span style=\"color: #7fbfbf; text-decoration-color: #7fbfbf\">[00:36:13] </span><span style=\"color: #000080; text-decoration-color: #000080\">INFO    </span> Identity of the Edgar REST client set to <span style=\"font-weight: bold\">[</span>drkiojiodjioqq.com@gmail.com<span style=\"font-weight: bold\">]</span>             <a href=\"file://c:\\Users\\TJR\\anaconda3\\envs\\edgar\\Lib\\site-packages\\edgar\\core.py\" target=\"_blank\"><span style=\"color: #7f7f7f; text-decoration-color: #7f7f7f\">core.py</span></a><span style=\"color: #7f7f7f; text-decoration-color: #7f7f7f\">:</span><a href=\"file://c:\\Users\\TJR\\anaconda3\\envs\\edgar\\Lib\\site-packages\\edgar\\core.py#158\" target=\"_blank\"><span style=\"color: #7f7f7f; text-decoration-color: #7f7f7f\">158</span></a>\n",
       "</pre>\n"
      ],
      "text/plain": [
       "\u001b[2;36m[00:36:13]\u001b[0m\u001b[2;36m \u001b[0m\u001b[34mINFO    \u001b[0m Identity of the Edgar REST client set to \u001b[1m[\u001b[0mdrkiojiodjioqq.com@gmail.com\u001b[1m]\u001b[0m             \u001b]8;id=621964;file://c:\\Users\\TJR\\anaconda3\\envs\\edgar\\Lib\\site-packages\\edgar\\core.py\u001b\\\u001b[2mcore.py\u001b[0m\u001b]8;;\u001b\\\u001b[2m:\u001b[0m\u001b]8;id=789581;file://c:\\Users\\TJR\\anaconda3\\envs\\edgar\\Lib\\site-packages\\edgar\\core.py#158\u001b\\\u001b[2m158\u001b[0m\u001b]8;;\u001b\\\n"
=======
=======
>>>>>>> dc676a0 (Squashed commit of the following:)
       "<pre style=\"white-space:pre;overflow-x:auto;line-height:normal;font-family:Menlo,'DejaVu Sans Mono',consolas,'Courier New',monospace\"><span style=\"color: #7fbfbf; text-decoration-color: #7fbfbf\">[16:00:41] </span><span style=\"color: #000080; text-decoration-color: #000080\">INFO    </span> Identity of the Edgar REST client set to <span style=\"font-weight: bold\">[</span>drkiojiodjiofrjojioqq.com@gmail.com<span style=\"font-weight: bold\">]</span>      <a href=\"file:///opt/anaconda3/envs/learn/lib/python3.9/site-packages/edgar/core.py\" target=\"_blank\"><span style=\"color: #7f7f7f; text-decoration-color: #7f7f7f\">core.py</span></a><span style=\"color: #7f7f7f; text-decoration-color: #7f7f7f\">:</span><a href=\"file:///opt/anaconda3/envs/learn/lib/python3.9/site-packages/edgar/core.py#158\" target=\"_blank\"><span style=\"color: #7f7f7f; text-decoration-color: #7f7f7f\">158</span></a>\n",
       "</pre>\n"
      ],
      "text/plain": [
       "\u001b[2;36m[16:00:41]\u001b[0m\u001b[2;36m \u001b[0m\u001b[34mINFO    \u001b[0m Identity of the Edgar REST client set to \u001b[1m[\u001b[0mdrkiojiodjiofrjojioqq.com@gmail.com\u001b[1m]\u001b[0m      \u001b]8;id=354700;file:///opt/anaconda3/envs/learn/lib/python3.9/site-packages/edgar/core.py\u001b\\\u001b[2mcore.py\u001b[0m\u001b]8;;\u001b\\\u001b[2m:\u001b[0m\u001b]8;id=21624;file:///opt/anaconda3/envs/learn/lib/python3.9/site-packages/edgar/core.py#158\u001b\\\u001b[2m158\u001b[0m\u001b]8;;\u001b\\\n"
<<<<<<< HEAD
>>>>>>> 23f54c9 (abort)
=======
=======
       "<pre style=\"white-space:pre;overflow-x:auto;line-height:normal;font-family:Menlo,'DejaVu Sans Mono',consolas,'Courier New',monospace\"><span style=\"color: #7fbfbf; text-decoration-color: #7fbfbf\">[00:36:13] </span><span style=\"color: #000080; text-decoration-color: #000080\">INFO    </span> Identity of the Edgar REST client set to <span style=\"font-weight: bold\">[</span>drkiojiodjioqq.com@gmail.com<span style=\"font-weight: bold\">]</span>             <a href=\"file://c:\\Users\\TJR\\anaconda3\\envs\\edgar\\Lib\\site-packages\\edgar\\core.py\" target=\"_blank\"><span style=\"color: #7f7f7f; text-decoration-color: #7f7f7f\">core.py</span></a><span style=\"color: #7f7f7f; text-decoration-color: #7f7f7f\">:</span><a href=\"file://c:\\Users\\TJR\\anaconda3\\envs\\edgar\\Lib\\site-packages\\edgar\\core.py#158\" target=\"_blank\"><span style=\"color: #7f7f7f; text-decoration-color: #7f7f7f\">158</span></a>\n",
       "</pre>\n"
      ],
      "text/plain": [
       "\u001b[2;36m[00:36:13]\u001b[0m\u001b[2;36m \u001b[0m\u001b[34mINFO    \u001b[0m Identity of the Edgar REST client set to \u001b[1m[\u001b[0mdrkiojiodjioqq.com@gmail.com\u001b[1m]\u001b[0m             \u001b]8;id=621964;file://c:\\Users\\TJR\\anaconda3\\envs\\edgar\\Lib\\site-packages\\edgar\\core.py\u001b\\\u001b[2mcore.py\u001b[0m\u001b]8;;\u001b\\\u001b[2m:\u001b[0m\u001b]8;id=789581;file://c:\\Users\\TJR\\anaconda3\\envs\\edgar\\Lib\\site-packages\\edgar\\core.py#158\u001b\\\u001b[2m158\u001b[0m\u001b]8;;\u001b\\\n"
>>>>>>> origin/main
>>>>>>> dc676a0 (Squashed commit of the following:)
      ]
     },
     "metadata": {},
     "output_type": "display_data"
    }
   ],
   "source": [
    "import pandas as pd\n",
    "import numpy as np\n",
    "import json\n",
    "from edgar import *\n",
    "from tqdm import tqdm\n",
    "from joblib import Parallel, delayed\n",
    "import pickle\n",
    "import re\n",
    "import multiprocessing\n",
<<<<<<< HEAD
<<<<<<< HEAD
    "set_identity('drkiojiodjioqq.com@gmail.com')"
=======
    "set_identity('drkiojiodjiofrjojioqq.com@gmail.com')"
>>>>>>> 23f54c9 (abort)
=======
    "set_identity('drkiojiodjiofrjojioqq.com@gmail.com')"
=======
    "set_identity('drkiojiodjioqq.com@gmail.com')"
>>>>>>> origin/main
>>>>>>> dc676a0 (Squashed commit of the following:)
   ]
  },
  {
   "cell_type": "code",
<<<<<<< HEAD
<<<<<<< HEAD
   "execution_count": 17,
=======
   "execution_count": 5,
>>>>>>> 23f54c9 (abort)
=======
   "execution_count": 5,
=======
   "execution_count": 17,
>>>>>>> origin/main
>>>>>>> dc676a0 (Squashed commit of the following:)
   "metadata": {},
   "outputs": [],
   "source": [
    "\n",
    "# this is a regex function, it requires at least a verd and a noun exist, and their distance is less than 20 words \n",
    "verbs_1 = ['freeze', 'froze', 'frozen', 'freezing', 'close', 'closed', 'discontinue', 'discontinued', 'terminate', 'terminated', 'renegotiate', 'renegotiated']\n",
    "nouns_1 = ['defined benefit', 'pension plan', 'retirement', 'postretirement', 'postemployment', 'pension', 'benefit']\n",
    "\n",
    "# Create a regex pattern\n",
    "pattern_1 = r'\\b(?:' + '|'.join(re.escape(word) for word in verbs_1) + r')\\b(?:\\W+\\w+){0,20}?\\W+\\b(?:' + '|'.join(re.escape(word) for word in nouns_1) + r')\\b' + \\\n",
    "            r'|\\b(?:' + '|'.join(re.escape(word) for word in nouns_1) + r')\\b(?:\\W+\\w+){0,20}?\\W+\\b(?:' + '|'.join(re.escape(word) for word in verbs_1) + r')\\b'\n",
    "\n",
    "# for pattern 2\n",
    "verbs_2 = ['move', 'moved', 'transfer', 'transferred', 'transfering', 'transfered', 'transfering', 'transfered' ,'transit', 'transition','transited','change','changed','turn','turned','new employee']\n",
    "nouns_2 = ['defined benefit', 'pension plan', 'retirement', 'postretirement', 'defined contribution', 'contribution', '401(k)']\n",
    "\n",
    "# pattern 2\n",
    "pattern_2 = r'\\b(?:' + '|'.join(re.escape(word) for word in verbs_2) + r')\\b(?:\\W+\\w+){0,20}?\\W+\\b(?:' + '|'.join(re.escape(word) for word in nouns_2) + r')\\b' + \\\n",
    "            r'|\\b(?:' + '|'.join(re.escape(word) for word in nouns_2) + r')\\b(?:\\W+\\w+){0,20}?\\W+\\b(?:' + '|'.join(re.escape(word) for word in verbs_2) + r')\\b'\n",
    "\n",
    "def find_freeze(filing):\n",
    "    \n",
    "    try:\n",
    "        result_1 = filing.search(pattern_1, regex=True).json() # search for keywords\n",
    "    except:\n",
    "        result_1 = None   \n",
    "\n",
    "    try:\n",
    "        result_2 = filing.search(pattern_2, regex=True).json() # search for keywords\n",
    "    except:\n",
    "        result_2 = None     \n",
    "\n",
    "    return filing, (result_1, result_2)\n"
   ]
  },
  {
   "cell_type": "code",
<<<<<<< HEAD
<<<<<<< HEAD
   "execution_count": 18,
=======
   "execution_count": 6,
>>>>>>> 23f54c9 (abort)
=======
   "execution_count": 6,
=======
   "execution_count": 18,
>>>>>>> origin/main
>>>>>>> dc676a0 (Squashed commit of the following:)
   "metadata": {},
   "outputs": [
    {
     "name": "stdout",
     "output_type": "stream",
     "text": [
<<<<<<< HEAD
<<<<<<< HEAD
      " Runing 2000\n"
=======
      " Runing 2003\n"
>>>>>>> 23f54c9 (abort)
=======
      " Runing 2003\n"
=======
      " Runing 2000\n"
>>>>>>> origin/main
>>>>>>> dc676a0 (Squashed commit of the following:)
     ]
    },
    {
     "name": "stderr",
     "output_type": "stream",
     "text": [
<<<<<<< HEAD
<<<<<<< HEAD
      " 48%|████▊     | 22620/46901 [43:36<46:34,  8.69it/s]  "
=======
=======
>>>>>>> dc676a0 (Squashed commit of the following:)
      " 85%|████████▍ | 35256/41681 [38:44<03:45, 28.55it/s]  /opt/anaconda3/envs/learn/lib/python3.9/site-packages/joblib/externals/loky/process_executor.py:752: UserWarning: A worker stopped while some jobs were given to the executor. This can be caused by a too short worker timeout or by a memory leak.\n",
      "  warnings.warn(\n",
      " 95%|█████████▍| 39504/41681 [54:45<16:18:20, 26.96s/it]"
     ]
    },
    {
     "name": "stdout",
     "output_type": "stream",
     "text": [
      "\u001b[2;36m[16:55:37]\u001b[0m\u001b[2;36m \u001b[0m\u001b[31mWARNING \u001b[0m stamina.retry_scheduled                       \u001b]8;id=172671;file:///opt/anaconda3/envs/learn/lib/python3.9/site-packages/stamina/instrumentation/_logging.py\u001b\\\u001b[2m_logging.py\u001b[0m\u001b]8;;\u001b\\\u001b[2m:\u001b[0m\u001b]8;id=609013;file:///opt/anaconda3/envs/learn/lib/python3.9/site-packages/stamina/instrumentation/_logging.py#23\u001b\\\u001b[2m23\u001b[0m\u001b]8;;\u001b\\\n",
      "\u001b[2;36m[16:55:37]\u001b[0m\u001b[2;36m \u001b[0m\u001b[31mWARNING \u001b[0m stamina.retry_scheduled                       \u001b]8;id=99236;file:///opt/anaconda3/envs/learn/lib/python3.9/site-packages/stamina/instrumentation/_logging.py\u001b\\\u001b[2m_logging.py\u001b[0m\u001b]8;;\u001b\\\u001b[2m:\u001b[0m\u001b]8;id=747195;file:///opt/anaconda3/envs/learn/lib/python3.9/site-packages/stamina/instrumentation/_logging.py#23\u001b\\\u001b[2m23\u001b[0m\u001b]8;;\u001b\\\n",
      "\u001b[2;36m[16:55:37]\u001b[0m\u001b[2;36m \u001b[0m\u001b[31mWARNING \u001b[0m stamina.retry_scheduled                       \u001b]8;id=161833;file:///opt/anaconda3/envs/learn/lib/python3.9/site-packages/stamina/instrumentation/_logging.py\u001b\\\u001b[2m_logging.py\u001b[0m\u001b]8;;\u001b\\\u001b[2m:\u001b[0m\u001b]8;id=319383;file:///opt/anaconda3/envs/learn/lib/python3.9/site-packages/stamina/instrumentation/_logging.py#23\u001b\\\u001b[2m23\u001b[0m\u001b]8;;\u001b\\\n",
      "\u001b[2;36m[16:55:37]\u001b[0m\u001b[2;36m \u001b[0m\u001b[31mWARNING \u001b[0m stamina.retry_scheduled                       \u001b]8;id=980158;file:///opt/anaconda3/envs/learn/lib/python3.9/site-packages/stamina/instrumentation/_logging.py\u001b\\\u001b[2m_logging.py\u001b[0m\u001b]8;;\u001b\\\u001b[2m:\u001b[0m\u001b]8;id=514357;file:///opt/anaconda3/envs/learn/lib/python3.9/site-packages/stamina/instrumentation/_logging.py#23\u001b\\\u001b[2m23\u001b[0m\u001b]8;;\u001b\\\n",
      "\u001b[2;36m[16:55:37]\u001b[0m\u001b[2;36m \u001b[0m\u001b[31mWARNING \u001b[0m stamina.retry_scheduled                       \u001b]8;id=699603;file:///opt/anaconda3/envs/learn/lib/python3.9/site-packages/stamina/instrumentation/_logging.py\u001b\\\u001b[2m_logging.py\u001b[0m\u001b]8;;\u001b\\\u001b[2m:\u001b[0m\u001b]8;id=74157;file:///opt/anaconda3/envs/learn/lib/python3.9/site-packages/stamina/instrumentation/_logging.py#23\u001b\\\u001b[2m23\u001b[0m\u001b]8;;\u001b\\\n",
      "\u001b[2;36m[16:55:37]\u001b[0m\u001b[2;36m \u001b[0m\u001b[31mWARNING \u001b[0m stamina.retry_scheduled                       \u001b]8;id=322112;file:///opt/anaconda3/envs/learn/lib/python3.9/site-packages/stamina/instrumentation/_logging.py\u001b\\\u001b[2m_logging.py\u001b[0m\u001b]8;;\u001b\\\u001b[2m:\u001b[0m\u001b]8;id=985719;file:///opt/anaconda3/envs/learn/lib/python3.9/site-packages/stamina/instrumentation/_logging.py#23\u001b\\\u001b[2m23\u001b[0m\u001b]8;;\u001b\\\n"
     ]
    },
    {
     "name": "stderr",
     "output_type": "stream",
     "text": [
      " 95%|█████████▌| 39608/41681 [1:00:06<6:23:59, 11.11s/it]"
     ]
    },
    {
     "name": "stdout",
     "output_type": "stream",
     "text": [
      "\u001b[2;36m[17:00:55]\u001b[0m\u001b[2;36m \u001b[0m\u001b[31mWARNING \u001b[0m stamina.retry_scheduled                       \u001b]8;id=525404;file:///opt/anaconda3/envs/learn/lib/python3.9/site-packages/stamina/instrumentation/_logging.py\u001b\\\u001b[2m_logging.py\u001b[0m\u001b]8;;\u001b\\\u001b[2m:\u001b[0m\u001b]8;id=45846;file:///opt/anaconda3/envs/learn/lib/python3.9/site-packages/stamina/instrumentation/_logging.py#23\u001b\\\u001b[2m23\u001b[0m\u001b]8;;\u001b\\\n",
      "\u001b[2;36m[17:00:55]\u001b[0m\u001b[2;36m \u001b[0m\u001b[31mWARNING \u001b[0m stamina.retry_scheduled                       \u001b]8;id=464053;file:///opt/anaconda3/envs/learn/lib/python3.9/site-packages/stamina/instrumentation/_logging.py\u001b\\\u001b[2m_logging.py\u001b[0m\u001b]8;;\u001b\\\u001b[2m:\u001b[0m\u001b]8;id=63052;file:///opt/anaconda3/envs/learn/lib/python3.9/site-packages/stamina/instrumentation/_logging.py#23\u001b\\\u001b[2m23\u001b[0m\u001b]8;;\u001b\\\n",
      "\u001b[2;36m[17:00:55]\u001b[0m\u001b[2;36m \u001b[0m\u001b[31mWARNING \u001b[0m stamina.retry_scheduled                       \u001b]8;id=224823;file:///opt/anaconda3/envs/learn/lib/python3.9/site-packages/stamina/instrumentation/_logging.py\u001b\\\u001b[2m_logging.py\u001b[0m\u001b]8;;\u001b\\\u001b[2m:\u001b[0m\u001b]8;id=936567;file:///opt/anaconda3/envs/learn/lib/python3.9/site-packages/stamina/instrumentation/_logging.py#23\u001b\\\u001b[2m23\u001b[0m\u001b]8;;\u001b\\\n",
      "\u001b[2;36m[17:00:55]\u001b[0m\u001b[2;36m \u001b[0m\u001b[31mWARNING \u001b[0m stamina.retry_scheduled                       \u001b]8;id=336822;file:///opt/anaconda3/envs/learn/lib/python3.9/site-packages/stamina/instrumentation/_logging.py\u001b\\\u001b[2m_logging.py\u001b[0m\u001b]8;;\u001b\\\u001b[2m:\u001b[0m\u001b]8;id=192608;file:///opt/anaconda3/envs/learn/lib/python3.9/site-packages/stamina/instrumentation/_logging.py#23\u001b\\\u001b[2m23\u001b[0m\u001b]8;;\u001b\\\n",
      "\u001b[2;36m[17:00:55]\u001b[0m\u001b[2;36m \u001b[0m\u001b[31mWARNING \u001b[0m stamina.retry_scheduled                       \u001b]8;id=387357;file:///opt/anaconda3/envs/learn/lib/python3.9/site-packages/stamina/instrumentation/_logging.py\u001b\\\u001b[2m_logging.py\u001b[0m\u001b]8;;\u001b\\\u001b[2m:\u001b[0m\u001b]8;id=925082;file:///opt/anaconda3/envs/learn/lib/python3.9/site-packages/stamina/instrumentation/_logging.py#23\u001b\\\u001b[2m23\u001b[0m\u001b]8;;\u001b\\\n",
      "\u001b[2;36m[17:00:55]\u001b[0m\u001b[2;36m \u001b[0m\u001b[31mWARNING \u001b[0m stamina.retry_scheduled                       \u001b]8;id=531278;file:///opt/anaconda3/envs/learn/lib/python3.9/site-packages/stamina/instrumentation/_logging.py\u001b\\\u001b[2m_logging.py\u001b[0m\u001b]8;;\u001b\\\u001b[2m:\u001b[0m\u001b]8;id=415905;file:///opt/anaconda3/envs/learn/lib/python3.9/site-packages/stamina/instrumentation/_logging.py#23\u001b\\\u001b[2m23\u001b[0m\u001b]8;;\u001b\\\n",
      "\u001b[2;36m[17:00:55]\u001b[0m\u001b[2;36m \u001b[0m\u001b[31mWARNING \u001b[0m stamina.retry_scheduled                       \u001b]8;id=101744;file:///opt/anaconda3/envs/learn/lib/python3.9/site-packages/stamina/instrumentation/_logging.py\u001b\\\u001b[2m_logging.py\u001b[0m\u001b]8;;\u001b\\\u001b[2m:\u001b[0m\u001b]8;id=370755;file:///opt/anaconda3/envs/learn/lib/python3.9/site-packages/stamina/instrumentation/_logging.py#23\u001b\\\u001b[2m23\u001b[0m\u001b]8;;\u001b\\\n"
     ]
    },
    {
     "name": "stderr",
     "output_type": "stream",
     "text": [
      " 95%|█████████▌| 39664/41681 [1:16:37<15:01:44, 26.82s/it]"
     ]
    },
    {
     "name": "stdout",
     "output_type": "stream",
     "text": [
      "\u001b[2;36m[17:17:25]\u001b[0m\u001b[2;36m \u001b[0m\u001b[31mWARNING \u001b[0m stamina.retry_scheduled                       \u001b]8;id=433322;file:///opt/anaconda3/envs/learn/lib/python3.9/site-packages/stamina/instrumentation/_logging.py\u001b\\\u001b[2m_logging.py\u001b[0m\u001b]8;;\u001b\\\u001b[2m:\u001b[0m\u001b]8;id=210870;file:///opt/anaconda3/envs/learn/lib/python3.9/site-packages/stamina/instrumentation/_logging.py#23\u001b\\\u001b[2m23\u001b[0m\u001b]8;;\u001b\\\n",
      "\u001b[2;36m[17:17:25]\u001b[0m\u001b[2;36m \u001b[0m\u001b[31mWARNING \u001b[0m stamina.retry_scheduled                       \u001b]8;id=256314;file:///opt/anaconda3/envs/learn/lib/python3.9/site-packages/stamina/instrumentation/_logging.py\u001b\\\u001b[2m_logging.py\u001b[0m\u001b]8;;\u001b\\\u001b[2m:\u001b[0m\u001b]8;id=80762;file:///opt/anaconda3/envs/learn/lib/python3.9/site-packages/stamina/instrumentation/_logging.py#23\u001b\\\u001b[2m23\u001b[0m\u001b]8;;\u001b\\\n",
      "\u001b[2;36m[17:17:25]\u001b[0m\u001b[2;36m \u001b[0m\u001b[31mWARNING \u001b[0m stamina.retry_scheduled                       \u001b]8;id=804045;file:///opt/anaconda3/envs/learn/lib/python3.9/site-packages/stamina/instrumentation/_logging.py\u001b\\\u001b[2m_logging.py\u001b[0m\u001b]8;;\u001b\\\u001b[2m:\u001b[0m\u001b]8;id=274455;file:///opt/anaconda3/envs/learn/lib/python3.9/site-packages/stamina/instrumentation/_logging.py#23\u001b\\\u001b[2m23\u001b[0m\u001b]8;;\u001b\\\n",
      "\u001b[2;36m[17:17:25]\u001b[0m\u001b[2;36m \u001b[0m\u001b[31mWARNING \u001b[0m stamina.retry_scheduled                       \u001b]8;id=264377;file:///opt/anaconda3/envs/learn/lib/python3.9/site-packages/stamina/instrumentation/_logging.py\u001b\\\u001b[2m_logging.py\u001b[0m\u001b]8;;\u001b\\\u001b[2m:\u001b[0m\u001b]8;id=379809;file:///opt/anaconda3/envs/learn/lib/python3.9/site-packages/stamina/instrumentation/_logging.py#23\u001b\\\u001b[2m23\u001b[0m\u001b]8;;\u001b\\\n",
      "\u001b[2;36m[17:17:25]\u001b[0m\u001b[2;36m \u001b[0m\u001b[31mWARNING \u001b[0m stamina.retry_scheduled                       \u001b]8;id=788137;file:///opt/anaconda3/envs/learn/lib/python3.9/site-packages/stamina/instrumentation/_logging.py\u001b\\\u001b[2m_logging.py\u001b[0m\u001b]8;;\u001b\\\u001b[2m:\u001b[0m\u001b]8;id=828262;file:///opt/anaconda3/envs/learn/lib/python3.9/site-packages/stamina/instrumentation/_logging.py#23\u001b\\\u001b[2m23\u001b[0m\u001b]8;;\u001b\\\n",
      "\u001b[2;36m[17:17:25]\u001b[0m\u001b[2;36m \u001b[0m\u001b[31mWARNING \u001b[0m stamina.retry_scheduled                       \u001b]8;id=253087;file:///opt/anaconda3/envs/learn/lib/python3.9/site-packages/stamina/instrumentation/_logging.py\u001b\\\u001b[2m_logging.py\u001b[0m\u001b]8;;\u001b\\\u001b[2m:\u001b[0m\u001b]8;id=955105;file:///opt/anaconda3/envs/learn/lib/python3.9/site-packages/stamina/instrumentation/_logging.py#23\u001b\\\u001b[2m23\u001b[0m\u001b]8;;\u001b\\\n",
      "\u001b[2;36m[17:17:25]\u001b[0m\u001b[2;36m \u001b[0m\u001b[31mWARNING \u001b[0m stamina.retry_scheduled                       \u001b]8;id=177184;file:///opt/anaconda3/envs/learn/lib/python3.9/site-packages/stamina/instrumentation/_logging.py\u001b\\\u001b[2m_logging.py\u001b[0m\u001b]8;;\u001b\\\u001b[2m:\u001b[0m\u001b]8;id=957605;file:///opt/anaconda3/envs/learn/lib/python3.9/site-packages/stamina/instrumentation/_logging.py#23\u001b\\\u001b[2m23\u001b[0m\u001b]8;;\u001b\\\n"
     ]
    },
    {
     "name": "stderr",
     "output_type": "stream",
     "text": [
      " 96%|█████████▌| 39912/41681 [1:17:13<04:04,  7.24it/s]   "
     ]
    },
    {
     "name": "stdout",
     "output_type": "stream",
     "text": [
      "\u001b[2;36m[17:17:58]\u001b[0m\u001b[2;36m \u001b[0m\u001b[31mWARNING \u001b[0m stamina.retry_scheduled                       \u001b]8;id=992830;file:///opt/anaconda3/envs/learn/lib/python3.9/site-packages/stamina/instrumentation/_logging.py\u001b\\\u001b[2m_logging.py\u001b[0m\u001b]8;;\u001b\\\u001b[2m:\u001b[0m\u001b]8;id=371318;file:///opt/anaconda3/envs/learn/lib/python3.9/site-packages/stamina/instrumentation/_logging.py#23\u001b\\\u001b[2m23\u001b[0m\u001b]8;;\u001b\\\n"
     ]
    },
    {
     "name": "stderr",
     "output_type": "stream",
     "text": [
      " 97%|█████████▋| 40248/41681 [1:18:03<03:15,  7.31it/s]"
     ]
    },
    {
     "name": "stdout",
     "output_type": "stream",
     "text": [
      "\u001b[2;36m[17:18:48]\u001b[0m\u001b[2;36m \u001b[0m\u001b[31mWARNING \u001b[0m stamina.retry_scheduled                       \u001b]8;id=230291;file:///opt/anaconda3/envs/learn/lib/python3.9/site-packages/stamina/instrumentation/_logging.py\u001b\\\u001b[2m_logging.py\u001b[0m\u001b]8;;\u001b\\\u001b[2m:\u001b[0m\u001b]8;id=938007;file:///opt/anaconda3/envs/learn/lib/python3.9/site-packages/stamina/instrumentation/_logging.py#23\u001b\\\u001b[2m23\u001b[0m\u001b]8;;\u001b\\\n"
     ]
    },
    {
     "name": "stderr",
     "output_type": "stream",
     "text": [
      " 98%|█████████▊| 40880/41681 [1:19:41<01:37,  8.19it/s]"
     ]
    },
    {
     "name": "stdout",
     "output_type": "stream",
     "text": [
      "\u001b[2;36m[17:20:25]\u001b[0m\u001b[2;36m \u001b[0m\u001b[31mWARNING \u001b[0m stamina.retry_scheduled                       \u001b]8;id=2544;file:///opt/anaconda3/envs/learn/lib/python3.9/site-packages/stamina/instrumentation/_logging.py\u001b\\\u001b[2m_logging.py\u001b[0m\u001b]8;;\u001b\\\u001b[2m:\u001b[0m\u001b]8;id=616390;file:///opt/anaconda3/envs/learn/lib/python3.9/site-packages/stamina/instrumentation/_logging.py#23\u001b\\\u001b[2m23\u001b[0m\u001b]8;;\u001b\\\n"
     ]
    },
    {
     "name": "stderr",
     "output_type": "stream",
     "text": [
      " 99%|█████████▉| 41416/41681 [1:21:11<01:37,  2.73it/s]"
     ]
    },
    {
     "name": "stdout",
     "output_type": "stream",
     "text": [
      "\u001b[2;36m[17:21:57]\u001b[0m\u001b[2;36m \u001b[0m\u001b[31mWARNING \u001b[0m stamina.retry_scheduled                       \u001b]8;id=290018;file:///opt/anaconda3/envs/learn/lib/python3.9/site-packages/stamina/instrumentation/_logging.py\u001b\\\u001b[2m_logging.py\u001b[0m\u001b]8;;\u001b\\\u001b[2m:\u001b[0m\u001b]8;id=795113;file:///opt/anaconda3/envs/learn/lib/python3.9/site-packages/stamina/instrumentation/_logging.py#23\u001b\\\u001b[2m23\u001b[0m\u001b]8;;\u001b\\\n"
     ]
    },
    {
     "name": "stderr",
     "output_type": "stream",
     "text": [
      "100%|██████████| 41681/41681 [1:22:05<00:00,  8.46it/s]\n"
<<<<<<< HEAD
>>>>>>> 23f54c9 (abort)
=======
=======
      " 48%|████▊     | 22620/46901 [43:36<46:34,  8.69it/s]  "
>>>>>>> origin/main
>>>>>>> dc676a0 (Squashed commit of the following:)
     ]
    }
   ],
   "source": [
<<<<<<< HEAD
<<<<<<< HEAD
    "year = 2000\n",
=======
    "year = 2003\n",
>>>>>>> 23f54c9 (abort)
=======
    "year = 2003\n",
=======
    "year = 2000\n",
>>>>>>> origin/main
>>>>>>> dc676a0 (Squashed commit of the following:)
    "# get 10-K and 10-Q filings for 2024\n",
    "\n",
    "filings = get_filings(year=year, form=['10-K', '10-Q' ,'DEF 14A'])\n",
    "print(f' Runing {year}')\n",
    "\n",
    "res = Parallel(n_jobs=-1)(delayed(find_freeze)(filing) for filing in tqdm(filings))\n",
    "\n",
    "\n",
    "freeze_collection = dict(res)\n",
    "\n",
    "# save the collection\n",
    "with open(f'data/freeze_collection_{year}.pkl', 'wb') as f:\n",
    "    pickle.dump(freeze_collection, f)\n"
   ]
  },
  {
   "cell_type": "code",
   "execution_count": null,
   "metadata": {},
   "outputs": [],
   "source": []
  }
 ],
 "metadata": {
  "kernelspec": {
   "display_name": "base",
   "language": "python",
   "name": "python3"
  },
  "language_info": {
   "codemirror_mode": {
    "name": "ipython",
    "version": 3
   },
   "file_extension": ".py",
   "mimetype": "text/x-python",
   "name": "python",
   "nbconvert_exporter": "python",
   "pygments_lexer": "ipython3",
<<<<<<< HEAD
<<<<<<< HEAD
   "version": "3.12.5"
=======
   "version": "3.9.19"
>>>>>>> 23f54c9 (abort)
=======
   "version": "3.9.19"
=======
   "version": "3.12.5"
>>>>>>> origin/main
>>>>>>> dc676a0 (Squashed commit of the following:)
  }
 },
 "nbformat": 4,
 "nbformat_minor": 2
}
