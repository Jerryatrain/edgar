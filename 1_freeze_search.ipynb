{
 "cells": [
  {
   "cell_type": "code",
   "execution_count": 16,
   "metadata": {},
   "outputs": [
    {
     "data": {
      "text/html": [
       "<pre style=\"white-space:pre;overflow-x:auto;line-height:normal;font-family:Menlo,'DejaVu Sans Mono',consolas,'Courier New',monospace\"><span style=\"color: #7fbfbf; text-decoration-color: #7fbfbf\">[00:36:13] </span><span style=\"color: #000080; text-decoration-color: #000080\">INFO    </span> Identity of the Edgar REST client set to <span style=\"font-weight: bold\">[</span>drkiojiodjioqq.com@gmail.com<span style=\"font-weight: bold\">]</span>             <a href=\"file://c:\\Users\\TJR\\anaconda3\\envs\\edgar\\Lib\\site-packages\\edgar\\core.py\" target=\"_blank\"><span style=\"color: #7f7f7f; text-decoration-color: #7f7f7f\">core.py</span></a><span style=\"color: #7f7f7f; text-decoration-color: #7f7f7f\">:</span><a href=\"file://c:\\Users\\TJR\\anaconda3\\envs\\edgar\\Lib\\site-packages\\edgar\\core.py#158\" target=\"_blank\"><span style=\"color: #7f7f7f; text-decoration-color: #7f7f7f\">158</span></a>\n",
       "</pre>\n"
      ],
      "text/plain": [
       "\u001b[2;36m[00:36:13]\u001b[0m\u001b[2;36m \u001b[0m\u001b[34mINFO    \u001b[0m Identity of the Edgar REST client set to \u001b[1m[\u001b[0mdrkiojiodjioqq.com@gmail.com\u001b[1m]\u001b[0m             \u001b]8;id=621964;file://c:\\Users\\TJR\\anaconda3\\envs\\edgar\\Lib\\site-packages\\edgar\\core.py\u001b\\\u001b[2mcore.py\u001b[0m\u001b]8;;\u001b\\\u001b[2m:\u001b[0m\u001b]8;id=789581;file://c:\\Users\\TJR\\anaconda3\\envs\\edgar\\Lib\\site-packages\\edgar\\core.py#158\u001b\\\u001b[2m158\u001b[0m\u001b]8;;\u001b\\\n"
      ]
     },
     "metadata": {},
     "output_type": "display_data"
    }
   ],
   "source": [
    "import pandas as pd\n",
    "import numpy as np\n",
    "import json\n",
    "from edgar import *\n",
    "from tqdm import tqdm\n",
    "from joblib import Parallel, delayed\n",
    "import pickle\n",
    "import re\n",
    "import multiprocessing\n",
    "set_identity('drkiojiodjioqq.com@gmail.com')"
   ]
  },
  {
   "cell_type": "code",
   "execution_count": 17,
   "metadata": {},
   "outputs": [],
   "source": [
    "\n",
    "# this is a regex function, it requires at least a verd and a noun exist, and their distance is less than 20 words \n",
    "verbs_1 = ['freeze', 'froze', 'frozen', 'freezing', 'close', 'closed', 'discontinue', 'discontinued', 'terminate', 'terminated', 'renegotiate', 'renegotiated']\n",
    "nouns_1 = ['defined benefit', 'pension plan', 'retirement', 'postretirement', 'postemployment', 'pension', 'benefit']\n",
    "\n",
    "# Create a regex pattern\n",
    "pattern_1 = r'\\b(?:' + '|'.join(re.escape(word) for word in verbs_1) + r')\\b(?:\\W+\\w+){0,20}?\\W+\\b(?:' + '|'.join(re.escape(word) for word in nouns_1) + r')\\b' + \\\n",
    "            r'|\\b(?:' + '|'.join(re.escape(word) for word in nouns_1) + r')\\b(?:\\W+\\w+){0,20}?\\W+\\b(?:' + '|'.join(re.escape(word) for word in verbs_1) + r')\\b'\n",
    "\n",
    "# for pattern 2\n",
    "verbs_2 = ['move', 'moved', 'transfer', 'transferred', 'transfering', 'transfered', 'transfering', 'transfered' ,'transit', 'transition','transited','change','changed','turn','turned','new employee']\n",
    "nouns_2 = ['defined benefit', 'pension plan', 'retirement', 'postretirement', 'defined contribution', 'contribution', '401(k)']\n",
    "\n",
    "# pattern 2\n",
    "pattern_2 = r'\\b(?:' + '|'.join(re.escape(word) for word in verbs_2) + r')\\b(?:\\W+\\w+){0,20}?\\W+\\b(?:' + '|'.join(re.escape(word) for word in nouns_2) + r')\\b' + \\\n",
    "            r'|\\b(?:' + '|'.join(re.escape(word) for word in nouns_2) + r')\\b(?:\\W+\\w+){0,20}?\\W+\\b(?:' + '|'.join(re.escape(word) for word in verbs_2) + r')\\b'\n",
    "\n",
    "def find_freeze(filing):\n",
    "    \n",
    "    try:\n",
    "        result_1 = filing.search(pattern_1, regex=True).json() # search for keywords\n",
    "    except:\n",
    "        result_1 = None   \n",
    "\n",
    "    try:\n",
    "        result_2 = filing.search(pattern_2, regex=True).json() # search for keywords\n",
    "    except:\n",
    "        result_2 = None     \n",
    "\n",
    "    return filing, (result_1, result_2)\n"
   ]
  },
  {
   "cell_type": "code",
   "execution_count": 18,
   "metadata": {},
   "outputs": [
    {
     "name": "stdout",
     "output_type": "stream",
     "text": [
      " Runing 2000\n"
     ]
    },
    {
     "name": "stderr",
     "output_type": "stream",
     "text": [
      " 48%|████▊     | 22620/46901 [43:36<46:34,  8.69it/s]  "
     ]
    }
   ],
   "source": [
    "year = 2000\n",
    "# get 10-K and 10-Q filings for 2024\n",
    "\n",
    "filings = get_filings(year=year, form=['10-K', '10-Q' ,'DEF 14A'])\n",
    "print(f' Runing {year}')\n",
    "\n",
    "res = Parallel(n_jobs=-1)(delayed(find_freeze)(filing) for filing in tqdm(filings))\n",
    "\n",
    "\n",
    "freeze_collection = dict(res)\n",
    "\n",
    "# save the collection\n",
    "with open(f'data/freeze_collection_{year}.pkl', 'wb') as f:\n",
    "    pickle.dump(freeze_collection, f)\n"
   ]
  },
  {
   "cell_type": "code",
   "execution_count": null,
   "metadata": {},
   "outputs": [],
   "source": []
  }
 ],
 "metadata": {
  "kernelspec": {
   "display_name": "base",
   "language": "python",
   "name": "python3"
  },
  "language_info": {
   "codemirror_mode": {
    "name": "ipython",
    "version": 3
   },
   "file_extension": ".py",
   "mimetype": "text/x-python",
   "name": "python",
   "nbconvert_exporter": "python",
   "pygments_lexer": "ipython3",
   "version": "3.12.5"
  }
 },
 "nbformat": 4,
 "nbformat_minor": 2
}
